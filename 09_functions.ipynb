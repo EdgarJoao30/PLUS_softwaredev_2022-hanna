{
 "cells": [
  {
   "cell_type": "markdown",
   "id": "8fc67241",
   "metadata": {},
   "source": [
    "# Functions\n",
    "\n",
    "We have tried Python standard functions, standard libraries and a few geo-related python libraries in this course so far, mostly in Jupyter notebooks. Now, we are going back to some programming fundamentals in Python.\n",
    "\n",
    "Creating functions are a way to divide your code into reusable pieces that can be run/used multiple times, sort of like running a Jupyter notebook cell.\n",
    "\n",
    "You can think of a function like a block of code. A function can take parameters or not to run, and can also return something to the user (e.g. a variable that can be of any type (e.g. list, string, integer), multiple variables, other python objects like a class or figure object from last week's matplotlib introduction).\n",
    "\n",
    "## Defining a function\n",
    "\n",
    "To define a function in python, the **def** keyword is used, which is short for definition, followed by parentheses () and a colon : The code contained in the function begins on the next line after the colon and each line to be included in the function must be indented at least once so that the python interpreter knows that it belongs together."
   ]
  },
  {
   "cell_type": "code",
   "execution_count": 8,
   "id": "f4ea44a8",
   "metadata": {},
   "outputs": [
    {
     "ename": "SyntaxError",
     "evalue": "unexpected EOF while parsing (<ipython-input-8-838dc15b1bca>, line 5)",
     "output_type": "error",
     "traceback": [
      "\u001b[0;36m  File \u001b[0;32m\"<ipython-input-8-838dc15b1bca>\"\u001b[0;36m, line \u001b[0;32m5\u001b[0m\n\u001b[0;31m    def this_is_a_function_0():\u001b[0m\n\u001b[0m                               ^\u001b[0m\n\u001b[0;31mSyntaxError\u001b[0m\u001b[0;31m:\u001b[0m unexpected EOF while parsing\n"
     ]
    }
   ],
   "source": [
    "# This one line of code begins to define a function.\n",
    "# If you run it like this, it will throw an end-of-file (EOF) error,\n",
    "# this is because it expects something, anything other than an\n",
    "# absolutely empty function.\n",
    "def this_is_a_function_0():"
   ]
  },
  {
   "cell_type": "code",
   "execution_count": 9,
   "id": "2fbfb1c3",
   "metadata": {},
   "outputs": [],
   "source": [
    "# You can fix this either by explicitly writing the keyword \"return\"...\n",
    "def this_is_a_function_1():\n",
    "    return"
   ]
  },
  {
   "cell_type": "code",
   "execution_count": 10,
   "id": "b96f944c",
   "metadata": {},
   "outputs": [],
   "source": [
    "# Or by doing something, anything, inside the function...\n",
    "def this_is_a_function_2():\n",
    "    variable = \"string\""
   ]
  },
  {
   "cell_type": "code",
   "execution_count": 11,
   "id": "e58db432",
   "metadata": {},
   "outputs": [],
   "source": [
    "# Or both...\n",
    "def this_is_a_function_3():\n",
    "    variable = \"string\"\n",
    "    return variable"
   ]
  },
  {
   "cell_type": "markdown",
   "id": "a786a900",
   "metadata": {},
   "source": [
    "Technically you have defined 3 functions now! If you remember from earlier in the course, you can check this using the built-in globals() and locals() functions."
   ]
  },
  {
   "cell_type": "code",
   "execution_count": 12,
   "id": "13e1f594",
   "metadata": {},
   "outputs": [
    {
     "data": {
      "text/plain": [
       "{'__name__': '__main__',\n",
       " '__doc__': 'Automatically created module for IPython interactive environment',\n",
       " '__package__': None,\n",
       " '__loader__': None,\n",
       " '__spec__': None,\n",
       " '__builtin__': <module 'builtins' (built-in)>,\n",
       " '__builtins__': <module 'builtins' (built-in)>,\n",
       " '_ih': ['',\n",
       "  '# This one line of code begins to define a function.\\n# If you run it like this, it will throw an end-of-file (EOF) error,\\n# this is because it expects something, anything other than an\\n# absolutely empty function.\\ndef this_is_a_function_0():',\n",
       "  '# You can fix this either by explicitly writing the keyword \"return\"...\\ndef this_is_a_function_1():\\n    return',\n",
       "  '# Or by doing something, anything, inside the function...\\ndef this_is_a_function_2():\\n    variable = \"string\"',\n",
       "  '# Or both...\\ndef this_is_a_function_3():\\n    variable = \"string\"\\n    return variable',\n",
       "  'globals()',\n",
       "  'locals()',\n",
       "  'this_is_a_function_1',\n",
       "  '# This one line of code begins to define a function.\\n# If you run it like this, it will throw an end-of-file (EOF) error,\\n# this is because it expects something, anything other than an\\n# absolutely empty function.\\ndef this_is_a_function_0():',\n",
       "  '# You can fix this either by explicitly writing the keyword \"return\"...\\ndef this_is_a_function_1():\\n    return',\n",
       "  '# Or by doing something, anything, inside the function...\\ndef this_is_a_function_2():\\n    variable = \"string\"',\n",
       "  '# Or both...\\ndef this_is_a_function_3():\\n    variable = \"string\"\\n    return variable',\n",
       "  'globals()'],\n",
       " '_oh': {5: {...}, 6: {...}, 7: <function __main__.this_is_a_function_1()>},\n",
       " '_dh': ['/Users/haugustin/repos/PLUS_softwaredev_2022'],\n",
       " 'In': ['',\n",
       "  '# This one line of code begins to define a function.\\n# If you run it like this, it will throw an end-of-file (EOF) error,\\n# this is because it expects something, anything other than an\\n# absolutely empty function.\\ndef this_is_a_function_0():',\n",
       "  '# You can fix this either by explicitly writing the keyword \"return\"...\\ndef this_is_a_function_1():\\n    return',\n",
       "  '# Or by doing something, anything, inside the function...\\ndef this_is_a_function_2():\\n    variable = \"string\"',\n",
       "  '# Or both...\\ndef this_is_a_function_3():\\n    variable = \"string\"\\n    return variable',\n",
       "  'globals()',\n",
       "  'locals()',\n",
       "  'this_is_a_function_1',\n",
       "  '# This one line of code begins to define a function.\\n# If you run it like this, it will throw an end-of-file (EOF) error,\\n# this is because it expects something, anything other than an\\n# absolutely empty function.\\ndef this_is_a_function_0():',\n",
       "  '# You can fix this either by explicitly writing the keyword \"return\"...\\ndef this_is_a_function_1():\\n    return',\n",
       "  '# Or by doing something, anything, inside the function...\\ndef this_is_a_function_2():\\n    variable = \"string\"',\n",
       "  '# Or both...\\ndef this_is_a_function_3():\\n    variable = \"string\"\\n    return variable',\n",
       "  'globals()'],\n",
       " 'Out': {5: {...}, 6: {...}, 7: <function __main__.this_is_a_function_1()>},\n",
       " 'get_ipython': <bound method InteractiveShell.get_ipython of <ipykernel.zmqshell.ZMQInteractiveShell object at 0x1044de610>>,\n",
       " 'exit': <IPython.core.autocall.ZMQExitAutocall at 0x104539cd0>,\n",
       " 'quit': <IPython.core.autocall.ZMQExitAutocall at 0x104539cd0>,\n",
       " '_': <function __main__.this_is_a_function_1()>,\n",
       " '__': {...},\n",
       " '___': {...},\n",
       " '_i': '# Or both...\\ndef this_is_a_function_3():\\n    variable = \"string\"\\n    return variable',\n",
       " '_ii': '# Or by doing something, anything, inside the function...\\ndef this_is_a_function_2():\\n    variable = \"string\"',\n",
       " '_iii': '# You can fix this either by explicitly writing the keyword \"return\"...\\ndef this_is_a_function_1():\\n    return',\n",
       " '_i1': '# This one line of code begins to define a function.\\n# If you run it like this, it will throw an end-of-file (EOF) error,\\n# this is because it expects something, anything other than an\\n# absolutely empty function.\\ndef this_is_a_function_0():',\n",
       " '_i2': '# You can fix this either by explicitly writing the keyword \"return\"...\\ndef this_is_a_function_1():\\n    return',\n",
       " 'this_is_a_function_1': <function __main__.this_is_a_function_1()>,\n",
       " '_i3': '# Or by doing something, anything, inside the function...\\ndef this_is_a_function_2():\\n    variable = \"string\"',\n",
       " 'this_is_a_function_2': <function __main__.this_is_a_function_2()>,\n",
       " '_i4': '# Or both...\\ndef this_is_a_function_3():\\n    variable = \"string\"\\n    return variable',\n",
       " 'this_is_a_function_3': <function __main__.this_is_a_function_3()>,\n",
       " '_i5': 'globals()',\n",
       " '_5': {...},\n",
       " '_i6': 'locals()',\n",
       " '_6': {...},\n",
       " '_i7': 'this_is_a_function_1',\n",
       " '_7': <function __main__.this_is_a_function_1()>,\n",
       " '_i8': '# This one line of code begins to define a function.\\n# If you run it like this, it will throw an end-of-file (EOF) error,\\n# this is because it expects something, anything other than an\\n# absolutely empty function.\\ndef this_is_a_function_0():',\n",
       " '_i9': '# You can fix this either by explicitly writing the keyword \"return\"...\\ndef this_is_a_function_1():\\n    return',\n",
       " '_i10': '# Or by doing something, anything, inside the function...\\ndef this_is_a_function_2():\\n    variable = \"string\"',\n",
       " '_i11': '# Or both...\\ndef this_is_a_function_3():\\n    variable = \"string\"\\n    return variable',\n",
       " '_i12': 'globals()'}"
      ]
     },
     "execution_count": 12,
     "metadata": {},
     "output_type": "execute_result"
    }
   ],
   "source": [
    "globals()"
   ]
  },
  {
   "cell_type": "code",
   "execution_count": 13,
   "id": "7dfbc8f2",
   "metadata": {},
   "outputs": [
    {
     "data": {
      "text/plain": [
       "{'__name__': '__main__',\n",
       " '__doc__': 'Automatically created module for IPython interactive environment',\n",
       " '__package__': None,\n",
       " '__loader__': None,\n",
       " '__spec__': None,\n",
       " '__builtin__': <module 'builtins' (built-in)>,\n",
       " '__builtins__': <module 'builtins' (built-in)>,\n",
       " '_ih': ['',\n",
       "  '# This one line of code begins to define a function.\\n# If you run it like this, it will throw an end-of-file (EOF) error,\\n# this is because it expects something, anything other than an\\n# absolutely empty function.\\ndef this_is_a_function_0():',\n",
       "  '# You can fix this either by explicitly writing the keyword \"return\"...\\ndef this_is_a_function_1():\\n    return',\n",
       "  '# Or by doing something, anything, inside the function...\\ndef this_is_a_function_2():\\n    variable = \"string\"',\n",
       "  '# Or both...\\ndef this_is_a_function_3():\\n    variable = \"string\"\\n    return variable',\n",
       "  'globals()',\n",
       "  'locals()',\n",
       "  'this_is_a_function_1',\n",
       "  '# This one line of code begins to define a function.\\n# If you run it like this, it will throw an end-of-file (EOF) error,\\n# this is because it expects something, anything other than an\\n# absolutely empty function.\\ndef this_is_a_function_0():',\n",
       "  '# You can fix this either by explicitly writing the keyword \"return\"...\\ndef this_is_a_function_1():\\n    return',\n",
       "  '# Or by doing something, anything, inside the function...\\ndef this_is_a_function_2():\\n    variable = \"string\"',\n",
       "  '# Or both...\\ndef this_is_a_function_3():\\n    variable = \"string\"\\n    return variable',\n",
       "  'globals()',\n",
       "  'locals()'],\n",
       " '_oh': {5: {...},\n",
       "  6: {...},\n",
       "  7: <function __main__.this_is_a_function_1()>,\n",
       "  12: {...}},\n",
       " '_dh': ['/Users/haugustin/repos/PLUS_softwaredev_2022'],\n",
       " 'In': ['',\n",
       "  '# This one line of code begins to define a function.\\n# If you run it like this, it will throw an end-of-file (EOF) error,\\n# this is because it expects something, anything other than an\\n# absolutely empty function.\\ndef this_is_a_function_0():',\n",
       "  '# You can fix this either by explicitly writing the keyword \"return\"...\\ndef this_is_a_function_1():\\n    return',\n",
       "  '# Or by doing something, anything, inside the function...\\ndef this_is_a_function_2():\\n    variable = \"string\"',\n",
       "  '# Or both...\\ndef this_is_a_function_3():\\n    variable = \"string\"\\n    return variable',\n",
       "  'globals()',\n",
       "  'locals()',\n",
       "  'this_is_a_function_1',\n",
       "  '# This one line of code begins to define a function.\\n# If you run it like this, it will throw an end-of-file (EOF) error,\\n# this is because it expects something, anything other than an\\n# absolutely empty function.\\ndef this_is_a_function_0():',\n",
       "  '# You can fix this either by explicitly writing the keyword \"return\"...\\ndef this_is_a_function_1():\\n    return',\n",
       "  '# Or by doing something, anything, inside the function...\\ndef this_is_a_function_2():\\n    variable = \"string\"',\n",
       "  '# Or both...\\ndef this_is_a_function_3():\\n    variable = \"string\"\\n    return variable',\n",
       "  'globals()',\n",
       "  'locals()'],\n",
       " 'Out': {5: {...},\n",
       "  6: {...},\n",
       "  7: <function __main__.this_is_a_function_1()>,\n",
       "  12: {...}},\n",
       " 'get_ipython': <bound method InteractiveShell.get_ipython of <ipykernel.zmqshell.ZMQInteractiveShell object at 0x1044de610>>,\n",
       " 'exit': <IPython.core.autocall.ZMQExitAutocall at 0x104539cd0>,\n",
       " 'quit': <IPython.core.autocall.ZMQExitAutocall at 0x104539cd0>,\n",
       " '_': {...},\n",
       " '__': <function __main__.this_is_a_function_1()>,\n",
       " '___': {...},\n",
       " '_i': 'globals()',\n",
       " '_ii': '# Or both...\\ndef this_is_a_function_3():\\n    variable = \"string\"\\n    return variable',\n",
       " '_iii': '# Or by doing something, anything, inside the function...\\ndef this_is_a_function_2():\\n    variable = \"string\"',\n",
       " '_i1': '# This one line of code begins to define a function.\\n# If you run it like this, it will throw an end-of-file (EOF) error,\\n# this is because it expects something, anything other than an\\n# absolutely empty function.\\ndef this_is_a_function_0():',\n",
       " '_i2': '# You can fix this either by explicitly writing the keyword \"return\"...\\ndef this_is_a_function_1():\\n    return',\n",
       " 'this_is_a_function_1': <function __main__.this_is_a_function_1()>,\n",
       " '_i3': '# Or by doing something, anything, inside the function...\\ndef this_is_a_function_2():\\n    variable = \"string\"',\n",
       " 'this_is_a_function_2': <function __main__.this_is_a_function_2()>,\n",
       " '_i4': '# Or both...\\ndef this_is_a_function_3():\\n    variable = \"string\"\\n    return variable',\n",
       " 'this_is_a_function_3': <function __main__.this_is_a_function_3()>,\n",
       " '_i5': 'globals()',\n",
       " '_5': {...},\n",
       " '_i6': 'locals()',\n",
       " '_6': {...},\n",
       " '_i7': 'this_is_a_function_1',\n",
       " '_7': <function __main__.this_is_a_function_1()>,\n",
       " '_i8': '# This one line of code begins to define a function.\\n# If you run it like this, it will throw an end-of-file (EOF) error,\\n# this is because it expects something, anything other than an\\n# absolutely empty function.\\ndef this_is_a_function_0():',\n",
       " '_i9': '# You can fix this either by explicitly writing the keyword \"return\"...\\ndef this_is_a_function_1():\\n    return',\n",
       " '_i10': '# Or by doing something, anything, inside the function...\\ndef this_is_a_function_2():\\n    variable = \"string\"',\n",
       " '_i11': '# Or both...\\ndef this_is_a_function_3():\\n    variable = \"string\"\\n    return variable',\n",
       " '_i12': 'globals()',\n",
       " '_12': {...},\n",
       " '_i13': 'locals()'}"
      ]
     },
     "execution_count": 13,
     "metadata": {},
     "output_type": "execute_result"
    }
   ],
   "source": [
    "locals()"
   ]
  },
  {
   "cell_type": "code",
   "execution_count": 14,
   "id": "1540df01",
   "metadata": {},
   "outputs": [
    {
     "data": {
      "text/plain": [
       "<function __main__.this_is_a_function_1()>"
      ]
     },
     "execution_count": 14,
     "metadata": {},
     "output_type": "execute_result"
    }
   ],
   "source": [
    "this_is_a_function_1"
   ]
  },
  {
   "cell_type": "markdown",
   "id": "7bf84b18",
   "metadata": {},
   "source": [
    "If you just call the name of the function (without the parentheses), iPython will explain to you what kind of object it is. In this case, __main__ is a namespace, which means this file or script. This is also somet"
   ]
  },
  {
   "cell_type": "code",
   "execution_count": 15,
   "id": "1f3369fd",
   "metadata": {},
   "outputs": [
    {
     "data": {
      "text/plain": [
       "<function __main__.this_is_a_function_2()>"
      ]
     },
     "execution_count": 15,
     "metadata": {},
     "output_type": "execute_result"
    }
   ],
   "source": [
    "this_is_a_function_2"
   ]
  },
  {
   "cell_type": "code",
   "execution_count": 16,
   "id": "863ef9e4",
   "metadata": {},
   "outputs": [
    {
     "data": {
      "text/plain": [
       "<function __main__.this_is_a_function_3()>"
      ]
     },
     "execution_count": 16,
     "metadata": {},
     "output_type": "execute_result"
    }
   ],
   "source": [
    "this_is_a_function_3"
   ]
  },
  {
   "cell_type": "markdown",
   "id": "ae3ea77a",
   "metadata": {},
   "source": [
    "You can also check this using the built-in type function."
   ]
  },
  {
   "cell_type": "code",
   "execution_count": 17,
   "id": "f3bf2be9",
   "metadata": {},
   "outputs": [
    {
     "data": {
      "text/plain": [
       "function"
      ]
     },
     "execution_count": 17,
     "metadata": {},
     "output_type": "execute_result"
    }
   ],
   "source": [
    "type(this_is_a_function_1)"
   ]
  },
  {
   "cell_type": "code",
   "execution_count": 18,
   "id": "8e662f95",
   "metadata": {},
   "outputs": [
    {
     "data": {
      "text/plain": [
       "function"
      ]
     },
     "execution_count": 18,
     "metadata": {},
     "output_type": "execute_result"
    }
   ],
   "source": [
    "type(this_is_a_function_2)"
   ]
  },
  {
   "cell_type": "code",
   "execution_count": 19,
   "id": "9b0e7493",
   "metadata": {},
   "outputs": [
    {
     "data": {
      "text/plain": [
       "function"
      ]
     },
     "execution_count": 19,
     "metadata": {},
     "output_type": "execute_result"
    }
   ],
   "source": [
    "type(this_is_a_function_3)"
   ]
  },
  {
   "cell_type": "markdown",
   "id": "777c9234",
   "metadata": {},
   "source": [
    "See how the output of the type() functions differs when you actually call the function. Calling the function means that you make it run, or execute the function. To do this, you need to include the parentheses. In the case of a function that takes arguments/parameters, these parenthesis will not be empty, but first see what happens based on the very basic functions we defined in the cells before..."
   ]
  },
  {
   "cell_type": "code",
   "execution_count": 20,
   "id": "d0d19849",
   "metadata": {},
   "outputs": [
    {
     "data": {
      "text/plain": [
       "NoneType"
      ]
     },
     "execution_count": 20,
     "metadata": {},
     "output_type": "execute_result"
    }
   ],
   "source": [
    "# This is the function that just included \"return\"\n",
    "type(this_is_a_function_1())"
   ]
  },
  {
   "cell_type": "code",
   "execution_count": 21,
   "id": "770c6439",
   "metadata": {},
   "outputs": [
    {
     "data": {
      "text/plain": [
       "NoneType"
      ]
     },
     "execution_count": 21,
     "metadata": {},
     "output_type": "execute_result"
    }
   ],
   "source": [
    "# This is the function that defined a variable but was defined not\n",
    "# to return anything.\n",
    "type(this_is_a_function_2())"
   ]
  },
  {
   "cell_type": "code",
   "execution_count": 22,
   "id": "f91294ad",
   "metadata": {},
   "outputs": [
    {
     "data": {
      "text/plain": [
       "str"
      ]
     },
     "execution_count": 22,
     "metadata": {},
     "output_type": "execute_result"
    }
   ],
   "source": [
    "# This is the function that defined a string variable\n",
    "# and returned it!\n",
    "type(this_is_a_function_3())"
   ]
  },
  {
   "cell_type": "markdown",
   "id": "0ea797fb",
   "metadata": {},
   "source": [
    "What you see here is that the built-in type() function is now receiving the output of whatever defined function as input instead of the function itself because you called the function and it did a thing!\n",
    "\n",
    "Just to be a bit more clear, here are a few more functions that are called and then given to the type() function as input."
   ]
  },
  {
   "cell_type": "code",
   "execution_count": 23,
   "id": "3e5e8409",
   "metadata": {},
   "outputs": [],
   "source": [
    "def this_is_a_function_4():\n",
    "    variable = 586.334\n",
    "    return variable"
   ]
  },
  {
   "cell_type": "code",
   "execution_count": 24,
   "id": "05e7a127",
   "metadata": {},
   "outputs": [
    {
     "data": {
      "text/plain": [
       "float"
      ]
     },
     "execution_count": 24,
     "metadata": {},
     "output_type": "execute_result"
    }
   ],
   "source": [
    "type(this_is_a_function_4())"
   ]
  },
  {
   "cell_type": "code",
   "execution_count": 25,
   "id": "1ab4ed2f",
   "metadata": {},
   "outputs": [],
   "source": [
    "def this_is_a_function_5():\n",
    "    variable_1 = 586.334\n",
    "    variable_2 = \"String!\"\n",
    "    return variable_1, variable_2"
   ]
  },
  {
   "cell_type": "code",
   "execution_count": 26,
   "id": "c79a0b91",
   "metadata": {},
   "outputs": [
    {
     "data": {
      "text/plain": [
       "tuple"
      ]
     },
     "execution_count": 26,
     "metadata": {},
     "output_type": "execute_result"
    }
   ],
   "source": [
    "type(this_is_a_function_5())"
   ]
  },
  {
   "cell_type": "markdown",
   "id": "5cef449b",
   "metadata": {},
   "source": [
    "As you see above, the default type of returned variables/objects/values is an immutable tuple, however you can define it to be something different..."
   ]
  },
  {
   "cell_type": "code",
   "execution_count": 27,
   "id": "b022bbbd",
   "metadata": {},
   "outputs": [],
   "source": [
    "def this_is_a_function_6():\n",
    "    variable_1 = 586.334\n",
    "    variable_2 = \"String!\"\n",
    "    return [variable_1, variable_2]"
   ]
  },
  {
   "cell_type": "code",
   "execution_count": 28,
   "id": "e88cdef1",
   "metadata": {},
   "outputs": [
    {
     "data": {
      "text/plain": [
       "list"
      ]
     },
     "execution_count": 28,
     "metadata": {},
     "output_type": "execute_result"
    }
   ],
   "source": [
    "type(this_is_a_function_6())"
   ]
  },
  {
   "cell_type": "markdown",
   "id": "c60aac00",
   "metadata": {},
   "source": [
    "You can also assign the output of a called function to a variable in order to do something else with it."
   ]
  },
  {
   "cell_type": "code",
   "execution_count": 29,
   "id": "e105c960",
   "metadata": {},
   "outputs": [
    {
     "name": "stdout",
     "output_type": "stream",
     "text": [
      "[586.334, 'String!']\n"
     ]
    }
   ],
   "source": [
    "function_6_output = this_is_a_function_6()\n",
    "print(function_6_output)"
   ]
  },
  {
   "cell_type": "code",
   "execution_count": 30,
   "id": "d90ad640",
   "metadata": {},
   "outputs": [
    {
     "name": "stdout",
     "output_type": "stream",
     "text": [
      "(586.334, 'String!')\n"
     ]
    },
    {
     "data": {
      "text/plain": [
       "tuple"
      ]
     },
     "execution_count": 30,
     "metadata": {},
     "output_type": "execute_result"
    }
   ],
   "source": [
    "function_5_output = this_is_a_function_5()\n",
    "print(function_5_output)\n",
    "type(function_5_output)"
   ]
  },
  {
   "cell_type": "code",
   "execution_count": 31,
   "id": "2e305a09",
   "metadata": {},
   "outputs": [
    {
     "name": "stdout",
     "output_type": "stream",
     "text": [
      "586.334\n"
     ]
    },
    {
     "data": {
      "text/plain": [
       "float"
      ]
     },
     "execution_count": 31,
     "metadata": {},
     "output_type": "execute_result"
    }
   ],
   "source": [
    "function_4_output = this_is_a_function_4()\n",
    "print(function_4_output)\n",
    "type(function_4_output)"
   ]
  },
  {
   "cell_type": "code",
   "execution_count": 32,
   "id": "690276ec",
   "metadata": {},
   "outputs": [
    {
     "data": {
      "text/plain": [
       "195.44466666666665"
      ]
     },
     "execution_count": 32,
     "metadata": {},
     "output_type": "execute_result"
    }
   ],
   "source": [
    "function_4_output / 3"
   ]
  },
  {
   "cell_type": "markdown",
   "id": "9503fb15",
   "metadata": {},
   "source": [
    "Not to make things more confusing, but you have to remember that a function is just a way to refer to a block of code. Just like a variable, you can re-define it... re-definining functions isn't useful for anything other than understanding that most of programming is linking files, but also linking blocks of code together in different ways, and that a function is just another \"object\"."
   ]
  },
  {
   "cell_type": "code",
   "execution_count": 33,
   "id": "e7387b1c",
   "metadata": {},
   "outputs": [],
   "source": [
    "def this_is_a_function_1():\n",
    "    return \"oh ha! I return something now!\""
   ]
  },
  {
   "cell_type": "code",
   "execution_count": 34,
   "id": "745703ca",
   "metadata": {},
   "outputs": [
    {
     "data": {
      "text/plain": [
       "'oh ha! I return something now!'"
      ]
     },
     "execution_count": 34,
     "metadata": {},
     "output_type": "execute_result"
    }
   ],
   "source": [
    "this_is_a_function_1()"
   ]
  },
  {
   "cell_type": "code",
   "execution_count": 35,
   "id": "f4b51aff",
   "metadata": {},
   "outputs": [],
   "source": [
    "this_is_a_function_1 = \"uh oh, now what?!\""
   ]
  },
  {
   "cell_type": "code",
   "execution_count": 36,
   "id": "bfa64821",
   "metadata": {},
   "outputs": [
    {
     "ename": "TypeError",
     "evalue": "'str' object is not callable",
     "output_type": "error",
     "traceback": [
      "\u001b[0;31m---------------------------------------------------------------------------\u001b[0m",
      "\u001b[0;31mTypeError\u001b[0m                                 Traceback (most recent call last)",
      "\u001b[0;32m<ipython-input-36-d1804fdcc3cc>\u001b[0m in \u001b[0;36m<module>\u001b[0;34m\u001b[0m\n\u001b[0;32m----> 1\u001b[0;31m \u001b[0mthis_is_a_function_1\u001b[0m\u001b[0;34m(\u001b[0m\u001b[0;34m)\u001b[0m\u001b[0;34m\u001b[0m\u001b[0;34m\u001b[0m\u001b[0m\n\u001b[0m",
      "\u001b[0;31mTypeError\u001b[0m: 'str' object is not callable"
     ]
    }
   ],
   "source": [
    "this_is_a_function_1()"
   ]
  },
  {
   "cell_type": "markdown",
   "id": "e856849e",
   "metadata": {},
   "source": [
    "So, what happened above? We redefined this_is_a_function_1(), and then assigned a variable of the same name a string value. Essentially we wrote over the function with a string variable, which brings us to an important concept called \"scope\". \"Scope\" basically refers to the boundaries in memory (that you cannot see...) for which different values are applicable. This is relevant for functions, but especially when you start writing different scripts or packages that have access to different files, functions, classes, etc. While you can be careful not to name anything the same to avoid such issues, that gets to be very difficult when relying on many external libraries etc.\n",
    "\n",
    "So, again, like we did before, if you just call the name of the function (without the parentheses), iPython will explain to you what kind of object it is.\n"
   ]
  },
  {
   "cell_type": "code",
   "execution_count": 37,
   "id": "e8db1a5b",
   "metadata": {},
   "outputs": [
    {
     "data": {
      "text/plain": [
       "<function __main__.this_is_a_function_2()>"
      ]
     },
     "execution_count": 37,
     "metadata": {},
     "output_type": "execute_result"
    }
   ],
   "source": [
    "this_is_a_function_2"
   ]
  },
  {
   "cell_type": "markdown",
   "id": "34050b95",
   "metadata": {},
   "source": [
    "**\\_\\_main\\_\\_** refers to a namespace, which, in this case, means this file or script... So, this function currently has a scope of this file or script (unless I import this file/script into another file like we have done with other libraries, but that is another topic...). If you want to learn more about this, read the documentation here: https://docs.python.org/3/library/__main__.html\n",
    "\n",
    "These are a bit more advanced, meta-understanding sort of topics in python, so don't worry if it is confusing and for now you can just focus on individual functions.\n",
    "\n",
    "Back to functions...\n",
    "\n",
    "So, we can define functions now that return something. Great. But how do we give them input? By defining arguments!\n",
    "\n",
    "## Defining functions with input arguments\n",
    "\n",
    "Ultimately, this is done in the function definition by simply giving possible input a name that is then used in the function."
   ]
  },
  {
   "cell_type": "code",
   "execution_count": 38,
   "id": "dac53a6b",
   "metadata": {},
   "outputs": [],
   "source": [
    "def this_is_a_function_10(var1, var2):\n",
    "    \n",
    "    if type(var1) == int and type(var2) == int:\n",
    "        return var1 * var2\n",
    "    elif type(var1) == float and type(var2) == float:\n",
    "        return var1 * var2 / 2\n",
    "    elif type(var1) == str and type(var2) == str:\n",
    "        return \"String one: \" + var1 + \"    String two: \" + var2\n",
    "    else:\n",
    "        print(\"Unknown combination: {}, {}\".format(var1, var2))"
   ]
  },
  {
   "cell_type": "code",
   "execution_count": 39,
   "id": "c40f290e",
   "metadata": {},
   "outputs": [
    {
     "data": {
      "text/plain": [
       "20"
      ]
     },
     "execution_count": 39,
     "metadata": {},
     "output_type": "execute_result"
    }
   ],
   "source": [
    "this_is_a_function_10(4, 5)"
   ]
  },
  {
   "cell_type": "code",
   "execution_count": 40,
   "id": "e9824a7d",
   "metadata": {},
   "outputs": [
    {
     "data": {
      "text/plain": [
       "10.0"
      ]
     },
     "execution_count": 40,
     "metadata": {},
     "output_type": "execute_result"
    }
   ],
   "source": [
    "this_is_a_function_10(4.0, 5.0)"
   ]
  },
  {
   "cell_type": "code",
   "execution_count": 41,
   "id": "745b410e",
   "metadata": {},
   "outputs": [
    {
     "data": {
      "text/plain": [
       "'String one: 4    String two: 5'"
      ]
     },
     "execution_count": 41,
     "metadata": {},
     "output_type": "execute_result"
    }
   ],
   "source": [
    "this_is_a_function_10(\"4\", \"5\")"
   ]
  },
  {
   "cell_type": "code",
   "execution_count": 42,
   "id": "4570801f",
   "metadata": {},
   "outputs": [
    {
     "name": "stdout",
     "output_type": "stream",
     "text": [
      "Unknown combination: 4, 5.0\n"
     ]
    }
   ],
   "source": [
    "this_is_a_function_10(4, 5.0)"
   ]
  },
  {
   "cell_type": "markdown",
   "id": "3ddd99f1",
   "metadata": {},
   "source": [
    "Now, remember how we mentioned scope before? Try and see what happens if you print one of the variables defined as part of the function..."
   ]
  },
  {
   "cell_type": "code",
   "execution_count": 43,
   "id": "553158d9",
   "metadata": {},
   "outputs": [
    {
     "ename": "NameError",
     "evalue": "name 'var1' is not defined",
     "output_type": "error",
     "traceback": [
      "\u001b[0;31m---------------------------------------------------------------------------\u001b[0m",
      "\u001b[0;31mNameError\u001b[0m                                 Traceback (most recent call last)",
      "\u001b[0;32m<ipython-input-43-b5880a42db53>\u001b[0m in \u001b[0;36m<module>\u001b[0;34m\u001b[0m\n\u001b[0;32m----> 1\u001b[0;31m \u001b[0mprint\u001b[0m\u001b[0;34m(\u001b[0m\u001b[0mvar1\u001b[0m\u001b[0;34m)\u001b[0m\u001b[0;34m\u001b[0m\u001b[0;34m\u001b[0m\u001b[0m\n\u001b[0m",
      "\u001b[0;31mNameError\u001b[0m: name 'var1' is not defined"
     ]
    }
   ],
   "source": [
    "print(var1)"
   ]
  },
  {
   "cell_type": "markdown",
   "id": "bd8f4e16",
   "metadata": {},
   "source": [
    "In this case, the reference to \"var1\" and \"var2\" are only valid inside the function definition, just like the functions we are defining are only valid inside this file (...unless we import them into another file). Next week we will talk more about classes and very briefly about python packages, but the concept is the same, in that classes are essentially just another way to define a new object that can have attributes and functions that have a limited scope that only apply to the class. These are all different ways to divide code depending on your needs and what you need it to do (or not do).\n",
    "\n",
    "... Anyways, there is also another way to define arguments for a function, and that is to explicitly assign keywords with a default value. This means that if no value is defined for these arguments, the default value that is defined will be used."
   ]
  },
  {
   "cell_type": "code",
   "execution_count": 44,
   "id": "524a114f",
   "metadata": {},
   "outputs": [],
   "source": [
    "def this_is_a_function_11(var1 = 1, var2 = 3):\n",
    "    \n",
    "    if type(var1) == int and type(var2) == int:\n",
    "        return var1 * var2\n",
    "    elif type(var1) == float and type(var2) == float:\n",
    "        return var1 * var2 / 2\n",
    "    elif type(var1) == str and type(var2) == str:\n",
    "        return \"String one: \" + var1 + \"    String two: \" + var2\n",
    "    else:\n",
    "        print(\"Unknown combination: {}, {}\".format(var1, var2))"
   ]
  },
  {
   "cell_type": "code",
   "execution_count": 45,
   "id": "46e09b66",
   "metadata": {},
   "outputs": [
    {
     "data": {
      "text/plain": [
       "3"
      ]
     },
     "execution_count": 45,
     "metadata": {},
     "output_type": "execute_result"
    }
   ],
   "source": [
    "this_is_a_function_11()"
   ]
  },
  {
   "cell_type": "code",
   "execution_count": 46,
   "id": "80c1e781",
   "metadata": {},
   "outputs": [
    {
     "data": {
      "text/plain": [
       "56"
      ]
     },
     "execution_count": 46,
     "metadata": {},
     "output_type": "execute_result"
    }
   ],
   "source": [
    "this_is_a_function_11(7, 8)"
   ]
  },
  {
   "cell_type": "code",
   "execution_count": 47,
   "id": "2a79ee35",
   "metadata": {},
   "outputs": [
    {
     "data": {
      "text/plain": [
       "'String one: first    String two: second'"
      ]
     },
     "execution_count": 47,
     "metadata": {},
     "output_type": "execute_result"
    }
   ],
   "source": [
    "this_is_a_function_11(\"first\", \"second\")"
   ]
  },
  {
   "cell_type": "code",
   "execution_count": 48,
   "id": "c47e13e8",
   "metadata": {},
   "outputs": [
    {
     "data": {
      "text/plain": [
       "'String one: second    String two: first'"
      ]
     },
     "execution_count": 48,
     "metadata": {},
     "output_type": "execute_result"
    }
   ],
   "source": [
    "this_is_a_function_11(var2 = \"first\", var1 = \"second\")"
   ]
  },
  {
   "cell_type": "markdown",
   "id": "5479e339",
   "metadata": {},
   "source": [
    "Hmm...that was interesting. If you missed it, take a closer look above at what happened.\n",
    "\n",
    "The keyword arguments for the function called \"var1\" and \"var2\" can also be referred to by name! However, try to access them again, and you'll get an error."
   ]
  },
  {
   "cell_type": "code",
   "execution_count": 49,
   "id": "c0feb2ac",
   "metadata": {},
   "outputs": [
    {
     "ename": "NameError",
     "evalue": "name 'var1' is not defined",
     "output_type": "error",
     "traceback": [
      "\u001b[0;31m---------------------------------------------------------------------------\u001b[0m",
      "\u001b[0;31mNameError\u001b[0m                                 Traceback (most recent call last)",
      "\u001b[0;32m<ipython-input-49-b5880a42db53>\u001b[0m in \u001b[0;36m<module>\u001b[0;34m\u001b[0m\n\u001b[0;32m----> 1\u001b[0;31m \u001b[0mprint\u001b[0m\u001b[0;34m(\u001b[0m\u001b[0mvar1\u001b[0m\u001b[0;34m)\u001b[0m\u001b[0;34m\u001b[0m\u001b[0;34m\u001b[0m\u001b[0m\n\u001b[0m",
      "\u001b[0;31mNameError\u001b[0m: name 'var1' is not defined"
     ]
    }
   ],
   "source": [
    "print(var1)"
   ]
  },
  {
   "cell_type": "markdown",
   "id": "e70f86a1",
   "metadata": {},
   "source": [
    "This is because  \"var1\" and \"var2\" are still only valid inside the function, however, since you defined them by name, you can refer to them by name when calling the function. This is very useful especially if you have multiple arguments so that you make sure you are passing the proper values instead of having to rely only on the order that they are given to the function. These are referred to as \"keyword arguments\" and you'll see this shortened to \"kwargs\".\n",
    "\n",
    "\n",
    "## Definining a function to take an unknown number of arguments\n",
    "\n",
    "There are two other ways to pass values to a function that might be useful for you someday, but are a bit more advanced. There are two ways to pass values if you don't necessarily know the number of values you want to pass! This is done using one or two stars * and a name to refer to the arguments. Out of convention, these are referred to as args (short for arguments) and kwargs (short for keyword arguments), but you could call them whatever you like....\n",
    "\n",
    "Let's take a look at both of these things by checking the type of what happens for each kind of unknown number of arguments..."
   ]
  },
  {
   "cell_type": "code",
   "execution_count": 50,
   "id": "db08125c",
   "metadata": {},
   "outputs": [],
   "source": [
    "def this_is_a_function_12(*args):\n",
    "    print(type(args))"
   ]
  },
  {
   "cell_type": "code",
   "execution_count": 51,
   "id": "651082fc",
   "metadata": {},
   "outputs": [
    {
     "name": "stdout",
     "output_type": "stream",
     "text": [
      "<class 'tuple'>\n"
     ]
    }
   ],
   "source": [
    "this_is_a_function_12()"
   ]
  },
  {
   "cell_type": "code",
   "execution_count": 52,
   "id": "7d78587e",
   "metadata": {},
   "outputs": [],
   "source": [
    "def this_is_a_function_13(**kwargs):\n",
    "    print(type(kwargs))"
   ]
  },
  {
   "cell_type": "code",
   "execution_count": 53,
   "id": "33c9ee3f",
   "metadata": {},
   "outputs": [
    {
     "name": "stdout",
     "output_type": "stream",
     "text": [
      "<class 'dict'>\n"
     ]
    }
   ],
   "source": [
    "this_is_a_function_13()"
   ]
  },
  {
   "cell_type": "markdown",
   "id": "c9122e8a",
   "metadata": {},
   "source": [
    "So, the first one with one \\* essentially receives a tuple, and the second one with \\*\\* receives a dictionary. This makes sense, since the first one receives an iterably tuple and the second one essentially unknown keywords with values. Ok, that's interesting but a bit abstract. How do you use such a thing?"
   ]
  },
  {
   "cell_type": "code",
   "execution_count": 54,
   "id": "e10a8cd3",
   "metadata": {},
   "outputs": [],
   "source": [
    "def this_is_a_function_14(*args):\n",
    "    for arg in args:\n",
    "        print(arg)"
   ]
  },
  {
   "cell_type": "code",
   "execution_count": 55,
   "id": "70b8d3f3",
   "metadata": {},
   "outputs": [
    {
     "name": "stdout",
     "output_type": "stream",
     "text": [
      "test\n",
      "4\n",
      "6.5\n",
      "ah!\n"
     ]
    }
   ],
   "source": [
    "this_is_a_function_14(\"test\", 4, 6.5, \"ah!\")"
   ]
  },
  {
   "cell_type": "code",
   "execution_count": 56,
   "id": "5d99f585",
   "metadata": {},
   "outputs": [],
   "source": [
    "def this_is_a_function_15(first_value, second_value, *args):\n",
    "    for arg in args:\n",
    "        print(arg)"
   ]
  },
  {
   "cell_type": "code",
   "execution_count": 57,
   "id": "b3075354",
   "metadata": {},
   "outputs": [
    {
     "name": "stdout",
     "output_type": "stream",
     "text": [
      "6.5\n",
      "ah!\n"
     ]
    }
   ],
   "source": [
    "this_is_a_function_15(\"test\", 4, 6.5, \"ah!\")"
   ]
  },
  {
   "cell_type": "code",
   "execution_count": 58,
   "id": "4aaae28f",
   "metadata": {},
   "outputs": [],
   "source": [
    "def this_is_a_function_16(first_value, second_value, *args):\n",
    "    for arg in args:\n",
    "        print(arg)\n",
    "        \n",
    "    print(\"This is actually the first argument: {}\".format(first_value))\n",
    "    print(\"And this is the second argument: {}\".format(second_value))"
   ]
  },
  {
   "cell_type": "code",
   "execution_count": 59,
   "id": "925422bc",
   "metadata": {},
   "outputs": [
    {
     "name": "stdout",
     "output_type": "stream",
     "text": [
      "6.5\n",
      "ah!\n",
      "This is actually the first argument: test\n",
      "And this is the second argument: 4\n"
     ]
    }
   ],
   "source": [
    "this_is_a_function_16(\"test\", 4, 6.5, \"ah!\")"
   ]
  },
  {
   "cell_type": "markdown",
   "id": "4783815a",
   "metadata": {},
   "source": [
    "So, you can pass any number of arguments. To make it even more confusing, let's call the same function as before, but refer to the defined arguments by keyword and see what happens:"
   ]
  },
  {
   "cell_type": "code",
   "execution_count": 60,
   "id": "e85611f8",
   "metadata": {},
   "outputs": [
    {
     "ename": "TypeError",
     "evalue": "this_is_a_function_16() got multiple values for argument 'second_value'",
     "output_type": "error",
     "traceback": [
      "\u001b[0;31m---------------------------------------------------------------------------\u001b[0m",
      "\u001b[0;31mTypeError\u001b[0m                                 Traceback (most recent call last)",
      "\u001b[0;32m<ipython-input-60-93def8810744>\u001b[0m in \u001b[0;36m<module>\u001b[0;34m\u001b[0m\n\u001b[0;32m----> 1\u001b[0;31m \u001b[0mthis_is_a_function_16\u001b[0m\u001b[0;34m(\u001b[0m\u001b[0;36m6.5\u001b[0m\u001b[0;34m,\u001b[0m \u001b[0;34m\"ah!\"\u001b[0m\u001b[0;34m,\u001b[0m \u001b[0msecond_value\u001b[0m \u001b[0;34m=\u001b[0m \u001b[0;34m\"test\"\u001b[0m\u001b[0;34m,\u001b[0m \u001b[0mfirst_value\u001b[0m \u001b[0;34m=\u001b[0m \u001b[0;36m4\u001b[0m\u001b[0;34m)\u001b[0m\u001b[0;34m\u001b[0m\u001b[0;34m\u001b[0m\u001b[0m\n\u001b[0m",
      "\u001b[0;31mTypeError\u001b[0m: this_is_a_function_16() got multiple values for argument 'second_value'"
     ]
    }
   ],
   "source": [
    "this_is_a_function_16(6.5, \"ah!\", second_value = \"test\", first_value = 4)"
   ]
  },
  {
   "cell_type": "code",
   "execution_count": 61,
   "id": "1926f6a8",
   "metadata": {},
   "outputs": [
    {
     "ename": "SyntaxError",
     "evalue": "positional argument follows keyword argument (<ipython-input-61-f15e4ab76d5e>, line 1)",
     "output_type": "error",
     "traceback": [
      "\u001b[0;36m  File \u001b[0;32m\"<ipython-input-61-f15e4ab76d5e>\"\u001b[0;36m, line \u001b[0;32m1\u001b[0m\n\u001b[0;31m    this_is_a_function_16(second_value = \"test\", first_value = 4, 6.5, \"ah!\")\u001b[0m\n\u001b[0m                                                                  ^\u001b[0m\n\u001b[0;31mSyntaxError\u001b[0m\u001b[0;31m:\u001b[0m positional argument follows keyword argument\n"
     ]
    }
   ],
   "source": [
    "this_is_a_function_16(second_value = \"test\", first_value = 4, 6.5, \"ah!\")"
   ]
  },
  {
   "cell_type": "code",
   "execution_count": 62,
   "id": "9b07505e",
   "metadata": {},
   "outputs": [
    {
     "ename": "SyntaxError",
     "evalue": "positional argument follows keyword argument (<ipython-input-62-27635d143a52>, line 1)",
     "output_type": "error",
     "traceback": [
      "\u001b[0;36m  File \u001b[0;32m\"<ipython-input-62-27635d143a52>\"\u001b[0;36m, line \u001b[0;32m1\u001b[0m\n\u001b[0;31m    this_is_a_function_16(first_value = 4, second_value = \"test\", 6.5, \"ah!\")\u001b[0m\n\u001b[0m                                                                  ^\u001b[0m\n\u001b[0;31mSyntaxError\u001b[0m\u001b[0;31m:\u001b[0m positional argument follows keyword argument\n"
     ]
    }
   ],
   "source": [
    "this_is_a_function_16(first_value = 4, second_value = \"test\", 6.5, \"ah!\")"
   ]
  },
  {
   "cell_type": "markdown",
   "id": "cef8db9f",
   "metadata": {},
   "source": [
    "So, when you use the single \\*, positional arguments are expected, which means the order matters and you ought not use keyword names when calling the function if an unknown number of positional arguments are defined. If you want to refer to an unknown number of arguments by keyword, you have to use the double star \\*\\*  This can get a bit more confusing, but basically, this defines a function that can handle a dictionary (keyword value pairs) that is unknown!"
   ]
  },
  {
   "cell_type": "code",
   "execution_count": 63,
   "id": "5d1342ca",
   "metadata": {},
   "outputs": [],
   "source": [
    "def this_is_a_function_17(**kwargs): \n",
    "    for key, value in kwargs.items():\n",
    "        print (\"%s == %s\" %(key, value))"
   ]
  },
  {
   "cell_type": "code",
   "execution_count": 64,
   "id": "817dd8eb",
   "metadata": {},
   "outputs": [
    {
     "name": "stdout",
     "output_type": "stream",
     "text": [
      "var1 == ah\n",
      "var2 == number 2\n",
      "var3 == 48485\n"
     ]
    }
   ],
   "source": [
    "this_is_a_function_17(var1 = \"ah\", var2 = \"number 2\", var3 = 48485)"
   ]
  },
  {
   "cell_type": "markdown",
   "id": "1a7b4806",
   "metadata": {},
   "source": [
    "So, to solve the error that we got before when referring to keyword arguments when expecting unknown positional arguments, we can just define both...but still have to be careful of the order that values are defined in the function. For example, if we define it like this, we have the same problem as before:"
   ]
  },
  {
   "cell_type": "code",
   "execution_count": 65,
   "id": "9d406a44",
   "metadata": {},
   "outputs": [],
   "source": [
    "def this_is_a_function_18(first_value, second_value, *args, **kwargs): \n",
    "    \n",
    "    for arg in args:\n",
    "        print(arg)\n",
    "        \n",
    "    print(\"This is actually the first argument: {}\".format(first_value))\n",
    "    print(\"And this is the second argument: {}\".format(second_value))\n",
    "    \n",
    "    for key, value in kwargs.items():\n",
    "        print (\"%s == %s\" %(key, value))"
   ]
  },
  {
   "cell_type": "code",
   "execution_count": 66,
   "id": "e2dcfd3f",
   "metadata": {},
   "outputs": [
    {
     "ename": "TypeError",
     "evalue": "this_is_a_function_18() got multiple values for argument 'second_value'",
     "output_type": "error",
     "traceback": [
      "\u001b[0;31m---------------------------------------------------------------------------\u001b[0m",
      "\u001b[0;31mTypeError\u001b[0m                                 Traceback (most recent call last)",
      "\u001b[0;32m<ipython-input-66-351aafc95bc1>\u001b[0m in \u001b[0;36m<module>\u001b[0;34m\u001b[0m\n\u001b[0;32m----> 1\u001b[0;31m \u001b[0mthis_is_a_function_18\u001b[0m\u001b[0;34m(\u001b[0m\u001b[0;36m6.5\u001b[0m\u001b[0;34m,\u001b[0m \u001b[0;34m\"ah!\"\u001b[0m\u001b[0;34m,\u001b[0m \u001b[0msecond_value\u001b[0m \u001b[0;34m=\u001b[0m \u001b[0;34m\"test\"\u001b[0m\u001b[0;34m,\u001b[0m \u001b[0mfirst_value\u001b[0m \u001b[0;34m=\u001b[0m \u001b[0;36m4\u001b[0m\u001b[0;34m)\u001b[0m\u001b[0;34m\u001b[0m\u001b[0;34m\u001b[0m\u001b[0m\n\u001b[0m",
      "\u001b[0;31mTypeError\u001b[0m: this_is_a_function_18() got multiple values for argument 'second_value'"
     ]
    }
   ],
   "source": [
    "this_is_a_function_18(6.5, \"ah!\", second_value = \"test\", first_value = 4)"
   ]
  },
  {
   "cell_type": "markdown",
   "id": "6c43b5e3",
   "metadata": {},
   "source": [
    "But if we take the positional arguments first and define keyword arguments, the function works without any issues."
   ]
  },
  {
   "cell_type": "code",
   "execution_count": 67,
   "id": "950c7043",
   "metadata": {},
   "outputs": [],
   "source": [
    "def this_is_a_function_19(*args, first_value, second_value, **kwargs): \n",
    "    \n",
    "    for arg in args:\n",
    "        print(arg)\n",
    "        \n",
    "    print(\"This is actually a keyword argument: {}\".format(first_value))\n",
    "    print(\"And this is the second keyword argument: {}\".format(second_value))\n",
    "    \n",
    "    for key, value in kwargs.items():\n",
    "        print (\"%s == %s\" %(key, value))"
   ]
  },
  {
   "cell_type": "code",
   "execution_count": 68,
   "id": "59c41c22",
   "metadata": {},
   "outputs": [
    {
     "name": "stdout",
     "output_type": "stream",
     "text": [
      "6.5\n",
      "ah!\n",
      "This is actually a keyword argument: 4\n",
      "And this is the second keyword argument: test\n"
     ]
    }
   ],
   "source": [
    "this_is_a_function_19(6.5, \"ah!\", second_value = \"test\", first_value = 4)"
   ]
  },
  {
   "cell_type": "markdown",
   "id": "60547d2d",
   "metadata": {},
   "source": [
    "And finally, we can also give some keyword arguments as well as positional arguments default values..."
   ]
  },
  {
   "cell_type": "code",
   "execution_count": 69,
   "id": "f961d1b3",
   "metadata": {},
   "outputs": [],
   "source": [
    "def this_is_a_function_20(first_pos, *args, first_kw = 56, second_kw = \"two\", **kwargs): \n",
    "    \n",
    "    print(\"This is actually the first argument: {}\".format(first_pos))\n",
    "    \n",
    "    for arg in args:\n",
    "        print(arg)\n",
    "        \n",
    "    print(\"This is actually a keyword argument: {}\".format(first_kw))\n",
    "    print(\"And this is the second keyword argument: {}\".format(second_kw))\n",
    "    \n",
    "    for key, value in kwargs.items():\n",
    "        print (\"%s == %s\" %(key, value))"
   ]
  },
  {
   "cell_type": "code",
   "execution_count": 70,
   "id": "6bc44905",
   "metadata": {},
   "outputs": [
    {
     "ename": "TypeError",
     "evalue": "this_is_a_function_20() missing 1 required positional argument: 'first_pos'",
     "output_type": "error",
     "traceback": [
      "\u001b[0;31m---------------------------------------------------------------------------\u001b[0m",
      "\u001b[0;31mTypeError\u001b[0m                                 Traceback (most recent call last)",
      "\u001b[0;32m<ipython-input-70-96100d9b2a7f>\u001b[0m in \u001b[0;36m<module>\u001b[0;34m\u001b[0m\n\u001b[0;32m----> 1\u001b[0;31m \u001b[0mthis_is_a_function_20\u001b[0m\u001b[0;34m(\u001b[0m\u001b[0;34m)\u001b[0m\u001b[0;34m\u001b[0m\u001b[0;34m\u001b[0m\u001b[0m\n\u001b[0m",
      "\u001b[0;31mTypeError\u001b[0m: this_is_a_function_20() missing 1 required positional argument: 'first_pos'"
     ]
    }
   ],
   "source": [
    "this_is_a_function_20()"
   ]
  },
  {
   "cell_type": "code",
   "execution_count": 71,
   "id": "dadaca18",
   "metadata": {},
   "outputs": [
    {
     "name": "stdout",
     "output_type": "stream",
     "text": [
      "This is actually the first argument: Hello!\n",
      "This is actually a keyword argument: 56\n",
      "And this is the second keyword argument: two\n"
     ]
    }
   ],
   "source": [
    "this_is_a_function_20(\"Hello!\")"
   ]
  },
  {
   "cell_type": "code",
   "execution_count": 72,
   "id": "9bedbf0e",
   "metadata": {},
   "outputs": [
    {
     "name": "stdout",
     "output_type": "stream",
     "text": [
      "This is actually the first argument: Hello!\n",
      "number 2\n",
      "number 3\n",
      "This is actually a keyword argument: 56\n",
      "And this is the second keyword argument: two\n"
     ]
    }
   ],
   "source": [
    "this_is_a_function_20(\"Hello!\", \"number 2\", \"number 3\")"
   ]
  },
  {
   "cell_type": "code",
   "execution_count": 73,
   "id": "f1702fea",
   "metadata": {},
   "outputs": [
    {
     "name": "stdout",
     "output_type": "stream",
     "text": [
      "This is actually the first argument: Hello!\n",
      "number 2\n",
      "number 3\n",
      "This is actually a keyword argument: 56\n",
      "And this is the second keyword argument: two\n",
      "programm == keyword program value\n",
      "test == what is this nonsense?!\n"
     ]
    }
   ],
   "source": [
    "this_is_a_function_20(\n",
    "    \"Hello!\", \"number 2\", \"number 3\",\n",
    "    programm = \"keyword program value\",\n",
    "    test = \"what is this nonsense?!\"\n",
    ")"
   ]
  },
  {
   "cell_type": "code",
   "execution_count": 74,
   "id": "08a9db6f",
   "metadata": {},
   "outputs": [
    {
     "name": "stdout",
     "output_type": "stream",
     "text": [
      "This is actually the first argument: Hello!\n",
      "number 2\n",
      "number 3\n",
      "This is actually a keyword argument: 56\n",
      "And this is the second keyword argument: I changed this second value now!\n",
      "programm == keyword program value\n",
      "test == what is this nonsense?!\n"
     ]
    }
   ],
   "source": [
    "this_is_a_function_20(\n",
    "    \"Hello!\", \"number 2\", \"number 3\",\n",
    "    programm = \"keyword program value\",\n",
    "    test = \"what is this nonsense?!\",\n",
    "    second_kw = \"I changed this second value now!\"\n",
    ")"
   ]
  },
  {
   "cell_type": "code",
   "execution_count": 75,
   "id": "d5ae3935",
   "metadata": {},
   "outputs": [
    {
     "name": "stdout",
     "output_type": "stream",
     "text": [
      "This is actually the first argument: Hello!\n",
      "number 2\n",
      "number 3\n",
      "This is actually a keyword argument: I changed this first value now!\n",
      "And this is the second keyword argument: two\n",
      "programm == keyword program value\n",
      "test == what is this nonsense?!\n"
     ]
    }
   ],
   "source": [
    "this_is_a_function_20(\n",
    "    \"Hello!\", \"number 2\", \"number 3\",\n",
    "    programm = \"keyword program value\",\n",
    "    test = \"what is this nonsense?!\",\n",
    "    first_kw = \"I changed this first value now!\"\n",
    ")"
   ]
  },
  {
   "cell_type": "markdown",
   "id": "db2983f7",
   "metadata": {},
   "source": [
    "Ok, maybe things are extra confusing now, but at least you know that there are multiple ways to pass values to a function... What you do with the values is completely up to you! ;)"
   ]
  },
  {
   "cell_type": "markdown",
   "id": "77ba3f79",
   "metadata": {},
   "source": [
    "## Exercise\n",
    "\n",
    "Try to do the following:\n",
    "\n",
    "1. Define and then call functions that work in this document directly in the python interpreter (i.e. NOT in a notebook) and see what happens.\n",
    "    - Be sure to call the globals() and/or locals() functions from the interpreter after trying a few things. You will see that the output values are different between the notebook, which runs interactive Python (iPython) versus a standard Python interpreter...\n",
    "2. Write a function that takes three arguments and multiplies the first two arguments by each other and adds the third parameter to the multiplied value.\n",
    "    - See what happens if you give that function a non-numeric argument (e.g. string). Think about how you can handle such \"errors\".\n",
    "3. Define and call a function INSIDE another function -- this can be useful if you need to do the same thing multiple times within a function and nowhere else (again, just another way to limit or control scope...).\n",
    "4. Play around with the concept of recursion, which is where a function is defined and calls itself in its definition. This is a more advanced concept, but can be useful sometimes. See here for more details: https://www.geeksforgeeks.org/recursion-in-python/"
   ]
  },
  {
   "cell_type": "markdown",
   "id": "4c4cf21c",
   "metadata": {},
   "source": [
    "If you feel like you have a good handle on the basics of functions, feel free to take a look at this introduction tutorial on classes: https://www.learnpython.org/en/Classes_and_Objects"
   ]
  },
  {
   "cell_type": "code",
   "execution_count": null,
   "id": "e2c3fd76",
   "metadata": {},
   "outputs": [],
   "source": []
  }
 ],
 "metadata": {
  "kernelspec": {
   "display_name": "Python 3",
   "language": "python",
   "name": "python3"
  },
  "language_info": {
   "codemirror_mode": {
    "name": "ipython",
    "version": 3
   },
   "file_extension": ".py",
   "mimetype": "text/x-python",
   "name": "python",
   "nbconvert_exporter": "python",
   "pygments_lexer": "ipython3",
   "version": "3.8.8"
  }
 },
 "nbformat": 4,
 "nbformat_minor": 5
}
